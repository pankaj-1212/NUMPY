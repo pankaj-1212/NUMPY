{
 "cells": [
  {
   "cell_type": "code",
   "execution_count": 1,
   "id": "187880a9-0b0f-4f64-9f1b-f0e00ff52e73",
   "metadata": {},
   "outputs": [],
   "source": [
    "import numpy as np\n",
    "import random"
   ]
  },
  {
   "cell_type": "code",
   "execution_count": 10,
   "id": "5fe33ee5-3741-4091-b783-887bfcb9e0dc",
   "metadata": {},
   "outputs": [
    {
     "data": {
      "text/plain": [
       "array([0.70363589])"
      ]
     },
     "execution_count": 10,
     "metadata": {},
     "output_type": "execute_result"
    }
   ],
   "source": [
    "np.random.random(1)      # it gives value of an array b/w 0 to 1"
   ]
  },
  {
   "cell_type": "code",
   "execution_count": 14,
   "id": "8a8181b1-ee64-43e8-a78c-9fa83a7ab716",
   "metadata": {},
   "outputs": [
    {
     "data": {
      "text/plain": [
       "array([[0.57674166, 0.16887476, 0.50680052],\n",
       "       [0.25403612, 0.51678235, 0.91366647],\n",
       "       [0.17728712, 0.23582264, 0.8396161 ]])"
      ]
     },
     "execution_count": 14,
     "metadata": {},
     "output_type": "execute_result"
    }
   ],
   "source": [
    "np.random.random((3,3))    #if we required value b/w 0 to 1"
   ]
  },
  {
   "cell_type": "code",
   "execution_count": 20,
   "id": "ef9b71ea-168a-4759-92cc-669360ac1ba3",
   "metadata": {},
   "outputs": [
    {
     "data": {
      "text/plain": [
       "2"
      ]
     },
     "execution_count": 20,
     "metadata": {},
     "output_type": "execute_result"
    }
   ],
   "source": [
    "np.random.randint(1,4)   #if we required int valie b/w two value where end value is exclusive"
   ]
  },
  {
   "cell_type": "code",
   "execution_count": 22,
   "id": "1ff8dd9b-db4c-4063-a27d-c90609165af1",
   "metadata": {},
   "outputs": [
    {
     "data": {
      "text/plain": [
       "array([[2, 1, 1, 3],\n",
       "       [1, 2, 3, 2],\n",
       "       [2, 2, 2, 3],\n",
       "       [1, 2, 1, 3]])"
      ]
     },
     "execution_count": 22,
     "metadata": {},
     "output_type": "execute_result"
    }
   ],
   "source": [
    "np.random.randint(1,4,(4,4)) #if we required array of int value"
   ]
  },
  {
   "cell_type": "code",
   "execution_count": 24,
   "id": "d11e3c91-698f-43e1-a830-c8fdb3f747ba",
   "metadata": {},
   "outputs": [
    {
     "data": {
      "text/plain": [
       "array([[[1, 3, 1, 1],\n",
       "        [1, 1, 2, 1],\n",
       "        [1, 3, 2, 1],\n",
       "        [2, 2, 1, 1]],\n",
       "\n",
       "       [[2, 3, 2, 2],\n",
       "        [1, 1, 1, 1],\n",
       "        [2, 2, 2, 2],\n",
       "        [3, 2, 1, 1]]])"
      ]
     },
     "execution_count": 24,
     "metadata": {},
     "output_type": "execute_result"
    }
   ],
   "source": [
    "np.random.randint(1,4,(2,4,4)) #if we required n(2) array of int value"
   ]
  },
  {
   "cell_type": "code",
   "execution_count": 28,
   "id": "19a76f95-736b-4b1b-a974-efe13a56f952",
   "metadata": {},
   "outputs": [
    {
     "data": {
      "text/plain": [
       "array([[[2, 2, 1, 1],\n",
       "        [2, 1, 2, 2],\n",
       "        [1, 2, 2, 3],\n",
       "        [1, 2, 1, 3]],\n",
       "\n",
       "       [[1, 3, 1, 1],\n",
       "        [1, 3, 1, 3],\n",
       "        [3, 2, 1, 1],\n",
       "        [3, 2, 3, 2]]])"
      ]
     },
     "execution_count": 28,
     "metadata": {},
     "output_type": "execute_result"
    }
   ],
   "source": [
    "np.random.seed(10)\n",
    "np.random.randint(1,4,(2,4,4))#if we required same value in array n times for use in more array"
   ]
  },
  {
   "cell_type": "code",
   "execution_count": 33,
   "id": "81718d78-1acd-4fc4-a6e6-16c27bb71f47",
   "metadata": {},
   "outputs": [
    {
     "data": {
      "text/plain": [
       "array([[[2, 2, 1, 1],\n",
       "        [2, 1, 2, 2],\n",
       "        [1, 2, 2, 3],\n",
       "        [1, 2, 1, 3]],\n",
       "\n",
       "       [[1, 3, 1, 1],\n",
       "        [1, 3, 1, 3],\n",
       "        [3, 2, 1, 1],\n",
       "        [3, 2, 3, 2]]])"
      ]
     },
     "execution_count": 33,
     "metadata": {},
     "output_type": "execute_result"
    }
   ],
   "source": [
    "np.random.seed(10)\n",
    "np.random.randint(1,4,(2,4,4))     #like it we get same value same like last array"
   ]
  },
  {
   "cell_type": "code",
   "execution_count": 35,
   "id": "d06f9347-7699-4f62-8ffa-2f443d2ecb6c",
   "metadata": {},
   "outputs": [
    {
     "data": {
      "text/plain": [
       "4294967295"
      ]
     },
     "execution_count": 35,
     "metadata": {},
     "output_type": "execute_result"
    }
   ],
   "source": [
    "2**32-1    #how much value we can give of seed()"
   ]
  },
  {
   "cell_type": "code",
   "execution_count": 37,
   "id": "768389b5-8e7e-4dd6-b204-ef6298f5e749",
   "metadata": {},
   "outputs": [
    {
     "data": {
      "text/plain": [
       "array([0.13145815, 0.41366737, 0.77872881])"
      ]
     },
     "execution_count": 37,
     "metadata": {},
     "output_type": "execute_result"
    }
   ],
   "source": [
    "np.random.rand(3)    #it also gives random value b/w 0 to 1 "
   ]
  },
  {
   "cell_type": "code",
   "execution_count": 41,
   "id": "a5af4601-af70-498b-97a4-095107b03004",
   "metadata": {},
   "outputs": [
    {
     "data": {
      "text/plain": [
       "array([[0.10540183, 0.28357668, 0.06556327, 0.05644419, 0.76545582],\n",
       "       [0.01178803, 0.61194334, 0.33188226, 0.55964837, 0.33549965],\n",
       "       [0.41118255, 0.0768555 , 0.85304299, 0.43998746, 0.12195415]])"
      ]
     },
     "execution_count": 41,
     "metadata": {},
     "output_type": "execute_result"
    }
   ],
   "source": [
    "np.random.rand(3,5) # under rand(n value,n value)    #its mean gives n-no of array"
   ]
  },
  {
   "cell_type": "code",
   "execution_count": 43,
   "id": "e1ffc92a-8e07-4514-8454-65359a365197",
   "metadata": {},
   "outputs": [
    {
     "data": {
      "text/plain": [
       "array([[-0.6579709 ,  0.42211306,  0.62402334,  0.5016401 ,  0.84143473],\n",
       "       [-1.64024998,  1.05800516, -0.09178444, -0.72403459, -0.40046036],\n",
       "       [ 0.44532458,  0.95993965, -1.34635384,  2.01889937,  1.08237635]])"
      ]
     },
     "execution_count": 43,
     "metadata": {},
     "output_type": "execute_result"
    }
   ],
   "source": [
    "np.random.randn(3,5)    #it gives neg  and pos value"
   ]
  },
  {
   "cell_type": "code",
   "execution_count": 47,
   "id": "2cf92013-39e3-44aa-883d-cbfd7cdf5bfd",
   "metadata": {},
   "outputs": [
    {
     "data": {
      "text/plain": [
       "3"
      ]
     },
     "execution_count": 47,
     "metadata": {},
     "output_type": "execute_result"
    }
   ],
   "source": [
    "x=[1,2,3,4,5]      #it chice only any one value b/w given list\n",
    "np.random.choice(x)"
   ]
  },
  {
   "cell_type": "code",
   "execution_count": 51,
   "id": "01a38bf6-beff-4906-9091-1ae34ab17dfe",
   "metadata": {},
   "outputs": [
    {
     "name": "stdout",
     "output_type": "stream",
     "text": [
      "3\n",
      "2\n",
      "1\n",
      "2\n",
      "2\n",
      "1\n",
      "2\n",
      "3\n",
      "5\n",
      "3\n",
      "2\n",
      "2\n",
      "5\n",
      "1\n",
      "1\n",
      "2\n",
      "1\n",
      "5\n",
      "5\n",
      "1\n"
     ]
    }
   ],
   "source": [
    "for i in range(20):  #it choice 20 times any diff value b/w given range list\n",
    "    print(np.random.choice(x))"
   ]
  },
  {
   "cell_type": "code",
   "execution_count": 53,
   "id": "07c9234d-1fee-4e86-8b79-96483ed122a7",
   "metadata": {},
   "outputs": [
    {
     "data": {
      "text/plain": [
       "[1, 2, 3, 4, 5]"
      ]
     },
     "execution_count": 53,
     "metadata": {},
     "output_type": "execute_result"
    }
   ],
   "source": [
    "x"
   ]
  },
  {
   "cell_type": "code",
   "execution_count": 57,
   "id": "746214a2-bb4b-4852-8c7a-132d75ff8de3",
   "metadata": {},
   "outputs": [
    {
     "data": {
      "text/plain": [
       "array([2, 1, 3, 5, 4])"
      ]
     },
     "execution_count": 57,
     "metadata": {},
     "output_type": "execute_result"
    }
   ],
   "source": [
    "np.random.permutation(x)    #it promote an array value everytimes different"
   ]
  },
  {
   "cell_type": "code",
   "execution_count": 59,
   "id": "f3c36ee3-22a5-4b9a-b6af-0556fc4c4406",
   "metadata": {},
   "outputs": [
    {
     "data": {
      "text/plain": [
       "array([5, 2, 1, 4, 3])"
      ]
     },
     "execution_count": 59,
     "metadata": {},
     "output_type": "execute_result"
    }
   ],
   "source": [
    "np.random.permutation(x)    #it promote an array value everytimes different"
   ]
  },
  {
   "cell_type": "code",
   "execution_count": null,
   "id": "8cceec88-f178-4742-92cb-f35212f3b9dc",
   "metadata": {},
   "outputs": [],
   "source": [
    "#there are more random sampling function(we can check it on scipy.org) on webs"
   ]
  }
 ],
 "metadata": {
  "kernelspec": {
   "display_name": "Python 3 (ipykernel)",
   "language": "python",
   "name": "python3"
  },
  "language_info": {
   "codemirror_mode": {
    "name": "ipython",
    "version": 3
   },
   "file_extension": ".py",
   "mimetype": "text/x-python",
   "name": "python",
   "nbconvert_exporter": "python",
   "pygments_lexer": "ipython3",
   "version": "3.12.4"
  }
 },
 "nbformat": 4,
 "nbformat_minor": 5
}
