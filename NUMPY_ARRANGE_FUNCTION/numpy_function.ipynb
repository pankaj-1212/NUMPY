{
 "cells": [
  {
   "cell_type": "code",
   "execution_count": 1,
   "id": "86d12d4f-6a10-4c56-adb7-e90940a49de5",
   "metadata": {},
   "outputs": [],
   "source": [
    "import numpy as np"
   ]
  },
  {
   "cell_type": "markdown",
   "id": "d75da1c5-1b9c-42ef-8e5b-3f5571770686",
   "metadata": {},
   "source": [
    "*arange()"
   ]
  },
  {
   "cell_type": "code",
   "execution_count": 3,
   "id": "bec05b31-4296-4d9d-8441-55e507cedc0b",
   "metadata": {},
   "outputs": [
    {
     "name": "stdout",
     "output_type": "stream",
     "text": [
      "[ 1  2  3  4  5  6  7  8  9 10 11 12 13 14]\n"
     ]
    }
   ],
   "source": [
    "#np.arange(start,end,steps)\n",
    "arr_1d=np.arange(1,15)\n",
    "print(arr_1d)"
   ]
  },
  {
   "cell_type": "code",
   "execution_count": 4,
   "id": "fc4e0248-1917-4263-945f-3e6be4d5da49",
   "metadata": {},
   "outputs": [],
   "source": [
    "#arange() is used to arange the value"
   ]
  },
  {
   "cell_type": "code",
   "execution_count": 5,
   "id": "d4b0bd77-e29d-4efa-b554-9f4d0e010059",
   "metadata": {},
   "outputs": [
    {
     "name": "stdout",
     "output_type": "stream",
     "text": [
      "[ 1  3  5  7  9 11 13]\n"
     ]
    }
   ],
   "source": [
    "even_arr=np.arange(1,15,2)\n",
    "print(even_arr)"
   ]
  },
  {
   "cell_type": "markdown",
   "id": "52380e07-6a1d-454e-a991-8793f1b7b507",
   "metadata": {},
   "source": [
    "*linspace()"
   ]
  },
  {
   "cell_type": "code",
   "execution_count": 7,
   "id": "5b451f86-2a27-4be7-8019-f1b16f7939f1",
   "metadata": {},
   "outputs": [
    {
     "data": {
      "text/plain": [
       "array([1.        , 2.33333333, 3.66666667, 5.        ])"
      ]
     },
     "execution_count": 7,
     "metadata": {},
     "output_type": "execute_result"
    }
   ],
   "source": [
    "np.linspace(1,5,4)"
   ]
  },
  {
   "cell_type": "code",
   "execution_count": 8,
   "id": "b924d99f-b0ba-46ba-83ce-aafbfd846f30",
   "metadata": {},
   "outputs": [],
   "source": [
    "#use for no required b/w range"
   ]
  },
  {
   "cell_type": "markdown",
   "id": "c2505b99-47ed-4cf6-941d-0b900c3c061d",
   "metadata": {},
   "source": [
    "*reshape()"
   ]
  },
  {
   "cell_type": "code",
   "execution_count": 10,
   "id": "d89b39bf-0be2-4c72-97aa-223e49de80c8",
   "metadata": {},
   "outputs": [
    {
     "name": "stdout",
     "output_type": "stream",
     "text": [
      "[[ 1  2  3  4  5  6  7]\n",
      " [ 8  9 10 11 12 13 14]]\n"
     ]
    }
   ],
   "source": [
    "arr_2d=arr_1d.reshape(2,7)\n",
    "print(arr_2d)"
   ]
  },
  {
   "cell_type": "code",
   "execution_count": 11,
   "id": "ea2a0bac-a852-4805-a1b6-27da6008d708",
   "metadata": {},
   "outputs": [],
   "source": [
    "#it is use for convert one array into another array"
   ]
  },
  {
   "cell_type": "markdown",
   "id": "c46b24eb-c781-4759-8e9c-0709b8cf74e7",
   "metadata": {},
   "source": [
    "*ravel()"
   ]
  },
  {
   "cell_type": "code",
   "execution_count": 13,
   "id": "14137782-fdf4-40b4-b68b-32aae4798811",
   "metadata": {},
   "outputs": [],
   "source": [
    "#it is used to convert muldidimension array into 1d"
   ]
  },
  {
   "cell_type": "markdown",
   "id": "81525e0e-01af-438e-899a-0d225f6da0bc",
   "metadata": {},
   "source": [
    "*flatten()"
   ]
  },
  {
   "cell_type": "code",
   "execution_count": 15,
   "id": "72250505-48e2-44e9-813b-4242a1209f6d",
   "metadata": {},
   "outputs": [],
   "source": [
    "#it is used to convert multidimension array into 1d"
   ]
  },
  {
   "cell_type": "markdown",
   "id": "6951fd30-8e4a-40ff-939d-be65103c688b",
   "metadata": {},
   "source": [
    "*transpose()"
   ]
  },
  {
   "cell_type": "code",
   "execution_count": 17,
   "id": "5049d704-fbef-47a9-a284-381f39cb186f",
   "metadata": {},
   "outputs": [],
   "source": [
    "#it is used to convert row into coloum"
   ]
  },
  {
   "cell_type": "code",
   "execution_count": null,
   "id": "94e1e5c4-5a8b-4ee3-8c65-5c960e12b375",
   "metadata": {},
   "outputs": [],
   "source": []
  },
  {
   "cell_type": "code",
   "execution_count": null,
   "id": "3dcc2693-3eb4-40e5-a08f-176f50f40b42",
   "metadata": {},
   "outputs": [],
   "source": []
  }
 ],
 "metadata": {
  "kernelspec": {
   "display_name": "Python 3 (ipykernel)",
   "language": "python",
   "name": "python3"
  },
  "language_info": {
   "codemirror_mode": {
    "name": "ipython",
    "version": 3
   },
   "file_extension": ".py",
   "mimetype": "text/x-python",
   "name": "python",
   "nbconvert_exporter": "python",
   "pygments_lexer": "ipython3",
   "version": "3.12.4"
  }
 },
 "nbformat": 4,
 "nbformat_minor": 5
}
